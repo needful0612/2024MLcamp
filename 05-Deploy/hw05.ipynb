{
 "cells": [
  {
   "cell_type": "code",
   "execution_count": 1,
   "id": "9724885d-e79d-4204-83b9-f70b2fdfb176",
   "metadata": {},
   "outputs": [],
   "source": [
    "import pickle\n",
    "input_file = 'homework/model1.bin'\n",
    "with open('homework/dv.bin', 'rb') as f_dv:\n",
    "    dv = pickle.load(f_dv)\n",
    "with open('homework/model1.bin', 'rb') as f_model:\n",
    "    model = pickle.load(f_model)"
   ]
  },
  {
   "cell_type": "code",
   "execution_count": 2,
   "id": "dc3c8305-81ef-492b-8cd4-b7256699a05c",
   "metadata": {},
   "outputs": [
    {
     "data": {
      "text/plain": [
       "(DictVectorizer(sparse=False), LogisticRegression(max_iter=250))"
      ]
     },
     "execution_count": 2,
     "metadata": {},
     "output_type": "execute_result"
    }
   ],
   "source": [
    "dv,model"
   ]
  },
  {
   "cell_type": "code",
   "execution_count": 7,
   "id": "b8c7fd37-9fa4-4690-8656-fa8c54ec7649",
   "metadata": {},
   "outputs": [
    {
     "data": {
      "text/plain": [
       "array([[400.,   0.,   0.,   0.,   0.,   1.,   0.,   0.,   0.,   0.,   0.,\n",
       "          0.,   0.,   0.,   0.,   1.,   0.]])"
      ]
     },
     "execution_count": 7,
     "metadata": {},
     "output_type": "execute_result"
    }
   ],
   "source": [
    "import json\n",
    "import pandas as pd\n",
    "client = {\"job\": \"management\", \"duration\": 400, \"poutcome\": \"success\"}\n",
    "X = dv.transform([client])\n",
    "X"
   ]
  },
  {
   "cell_type": "code",
   "execution_count": 8,
   "id": "f32c9363-c76e-4466-a47f-532f947f9450",
   "metadata": {},
   "outputs": [],
   "source": [
    "y_pred = model.predict_proba(X)[0, 1]"
   ]
  },
  {
   "cell_type": "code",
   "execution_count": 9,
   "id": "f045ed4b-ac24-4a05-bec7-7105101d196d",
   "metadata": {},
   "outputs": [
    {
     "name": "stdout",
     "output_type": "stream",
     "text": [
      "input: {'job': 'management', 'duration': 400, 'poutcome': 'success'}\n",
      "output: 0.7590966516879658\n"
     ]
    }
   ],
   "source": [
    "print('input:', client)\n",
    "print('output:', y_pred)"
   ]
  },
  {
   "cell_type": "code",
   "execution_count": null,
   "id": "7f48d40f-eb6c-4068-a8d2-a52d41a9f553",
   "metadata": {},
   "outputs": [],
   "source": []
  }
 ],
 "metadata": {
  "kernelspec": {
   "display_name": "Python 3 (ipykernel)",
   "language": "python",
   "name": "python3"
  },
  "language_info": {
   "codemirror_mode": {
    "name": "ipython",
    "version": 3
   },
   "file_extension": ".py",
   "mimetype": "text/x-python",
   "name": "python",
   "nbconvert_exporter": "python",
   "pygments_lexer": "ipython3",
   "version": "3.12.2"
  }
 },
 "nbformat": 4,
 "nbformat_minor": 5
}
