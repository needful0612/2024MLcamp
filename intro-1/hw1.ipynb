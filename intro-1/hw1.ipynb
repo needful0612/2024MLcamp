{
 "cells": [
  {
   "cell_type": "code",
   "execution_count": 34,
   "id": "98fb12f2-fb75-470a-9f4c-c991720246ae",
   "metadata": {},
   "outputs": [],
   "source": [
    "import pandas as pd\n",
    "import numpy as np"
   ]
  },
  {
   "cell_type": "code",
   "execution_count": 35,
   "id": "373034ad-10fb-4cb0-a244-01f8ce7e687c",
   "metadata": {},
   "outputs": [
    {
     "data": {
      "text/plain": [
       "'2.2.3'"
      ]
     },
     "execution_count": 35,
     "metadata": {},
     "output_type": "execute_result"
    }
   ],
   "source": [
    "#1. What's the version of Pandas that you installed?\n",
    "pd.__version__"
   ]
  },
  {
   "cell_type": "code",
   "execution_count": 36,
   "id": "6509a1c2-e955-4d74-8a17-277561b41a7d",
   "metadata": {},
   "outputs": [
    {
     "name": "stdout",
     "output_type": "stream",
     "text": [
      "2160\n"
     ]
    }
   ],
   "source": [
    "#2. How many records are in the dataset?\n",
    "df = pd.read_csv('data/laptops.csv')\n",
    "num_records = len(df)\n",
    "print(f'{num_records}')"
   ]
  },
  {
   "cell_type": "code",
   "execution_count": 37,
   "id": "64b688a8-f7f3-4b26-bb6e-481d5f0e9305",
   "metadata": {},
   "outputs": [
    {
     "name": "stdout",
     "output_type": "stream",
     "text": [
      "27\n"
     ]
    }
   ],
   "source": [
    "#3. How many laptop brands are presented in the dataset?\n",
    "unique_brands = len(df['Brand'].unique())\n",
    "print(f'{unique_brands}')\n"
   ]
  },
  {
   "cell_type": "code",
   "execution_count": 38,
   "id": "13526c33-adff-4795-ac33-b535b0046fcd",
   "metadata": {},
   "outputs": [
    {
     "name": "stdout",
     "output_type": "stream",
     "text": [
      "['Asus' 'Alurin' 'MSI' 'HP' 'Lenovo' 'Medion' 'Acer' 'Apple' 'Razer'\n",
      " 'Gigabyte' 'Dell' 'LG' 'Samsung' 'PcCom' 'Microsoft' 'Primux' 'Prixton'\n",
      " 'Dynabook Toshiba' 'Thomson' 'Denver' 'Deep Gaming' 'Vant' 'Innjoo'\n",
      " 'Jetwing' 'Millenium' 'Realme' 'Toshiba']\n"
     ]
    }
   ],
   "source": [
    "unique_brands = df['Brand'].unique()\n",
    "print(f'{unique_brands}')"
   ]
  },
  {
   "cell_type": "code",
   "execution_count": 39,
   "id": "8008fbdc-7f80-4745-ae88-afeee5972046",
   "metadata": {},
   "outputs": [
    {
     "name": "stdout",
     "output_type": "stream",
     "text": [
      "3\n"
     ]
    }
   ],
   "source": [
    "#4. How many columns in the dataset have missing values?\n",
    "missing_values = df.isnull().sum()\n",
    "num_columns_with_missing_values = (missing_values > 0).sum()\n",
    "\n",
    "print(f'{num_columns_with_missing_values}')"
   ]
  },
  {
   "cell_type": "code",
   "execution_count": 40,
   "id": "f2b65ee4-90c5-4898-8034-92c3d48893c1",
   "metadata": {},
   "outputs": [
    {
     "name": "stdout",
     "output_type": "stream",
     "text": [
      "3936.0\n"
     ]
    }
   ],
   "source": [
    "#5. What's the maximum final price of Dell notebooks in the dataset?\n",
    "dell_notebooks = df[df['Brand'] == 'Dell']\n",
    "max_final_price = dell_notebooks['Final Price'].max()\n",
    "\n",
    "print(f'{max_final_price}')"
   ]
  },
  {
   "cell_type": "code",
   "execution_count": 41,
   "id": "954e25d4-6c4f-4298-92c1-e1a698aa2c8e",
   "metadata": {},
   "outputs": [
    {
     "name": "stdout",
     "output_type": "stream",
     "text": [
      "15.6\n",
      "15.6\n"
     ]
    }
   ],
   "source": [
    "#6. Median value of Screen\n",
    "median_screen = df['Screen'].median()\n",
    "mode_screen = df['Screen'].mode()[0]\n",
    "\n",
    "print(f'{median_screen}')\n",
    "print(f'{mode_screen}')\n"
   ]
  },
  {
   "cell_type": "code",
   "execution_count": 42,
   "id": "5217b319-9a2e-4be8-b957-cb429816a9e0",
   "metadata": {},
   "outputs": [
    {
     "name": "stdout",
     "output_type": "stream",
     "text": [
      "15.6\n",
      "15.6\n"
     ]
    }
   ],
   "source": [
    "df['Screen'] = df['Screen'].fillna(mode_screen)\n",
    "median_screen_after_fill = df['Screen'].median()\n",
    "mode_screen_after_fill = df['Screen'].mode()[0]\n",
    "\n",
    "print(f'{median_screen_after_fill}')\n",
    "print(f'{mode_screen_after_fill}')\n",
    "#not changed"
   ]
  },
  {
   "cell_type": "code",
   "execution_count": 43,
   "id": "fc4b71ad-8e3b-4904-94fa-cb0cfe074ab2",
   "metadata": {},
   "outputs": [
    {
     "name": "stdout",
     "output_type": "stream",
     "text": [
      "[45.59  0.43 45.3 ]\n",
      "91.3\n"
     ]
    }
   ],
   "source": [
    "#7. Sum of weights\n",
    "innjoo_laptops = df[df['Brand'] == 'Innjoo'][['RAM', 'Storage', 'Screen']]\n",
    "X = innjoo_laptops.to_numpy()\n",
    "X_T = X.T\n",
    "XTX = np.matmul(X_T, X)\n",
    "XTX_inv = np.linalg.inv(XTX)\n",
    "y = np.array([1100, 1300, 800, 900, 1000, 1100])\n",
    "w = np.matmul(XTX_inv, X_T) @ y \n",
    "sum_w = np.sum(w)\n",
    "print(w_rounded)\n",
    "print(sum_w_rounded)"
   ]
  },
  {
   "cell_type": "code",
   "execution_count": null,
   "id": "c8197166-91e6-401c-b109-a51a65c60df9",
   "metadata": {},
   "outputs": [],
   "source": []
  }
 ],
 "metadata": {
  "kernelspec": {
   "display_name": "Python 3 (ipykernel)",
   "language": "python",
   "name": "python3"
  },
  "language_info": {
   "codemirror_mode": {
    "name": "ipython",
    "version": 3
   },
   "file_extension": ".py",
   "mimetype": "text/x-python",
   "name": "python",
   "nbconvert_exporter": "python",
   "pygments_lexer": "ipython3",
   "version": "3.12.2"
  }
 },
 "nbformat": 4,
 "nbformat_minor": 5
}
